{
 "cells": [
  {
   "cell_type": "markdown",
   "metadata": {},
   "source": [
    "# RF with original labels using f1 score"
   ]
  },
  {
   "cell_type": "code",
   "execution_count": 2,
   "metadata": {},
   "outputs": [],
   "source": [
    "import pandas as pd\n",
    "import numpy as np\n",
    "import seaborn as sns\n",
    "import matplotlib.pyplot as plt\n",
    "%matplotlib inline"
   ]
  },
  {
   "cell_type": "code",
   "execution_count": 5,
   "metadata": {},
   "outputs": [],
   "source": [
    "# save column data type to preserve them for input/output\n",
    "col_dtype = {'recommended': float,\n",
    "'num_review': float,\n",
    "'num_owned_games': float,\n",
    "'game_play_time': float,\n",
    "'lag_month': float,\n",
    "'dlc_price': float,\n",
    "'game_price': float,\n",
    "'Accounting': float,\n",
    "'Action': float,\n",
    "'Adventure': float,\n",
    "'Animation&Modeling': float,\n",
    "'AudioProduction': float,\n",
    "'Casual': float,\n",
    "'Design&Illustration': float,\n",
    "'EarlyAccess': float,\n",
    "'Education': float,\n",
    "'FreetoPlay': float,\n",
    "'Indie': float,\n",
    "'MassivelyMultiplayer': float,\n",
    "'PhotoEditing': float,\n",
    "'RPG': float,\n",
    "'Racing': float,\n",
    "'Simulation': float,\n",
    "'SoftwareTraining': float,\n",
    "'Sports': float,\n",
    "'Strategy': float,\n",
    "'Utilities': float,\n",
    "'VideoProduction': float,\n",
    "'WebPublishing': float}"
   ]
  },
  {
   "cell_type": "code",
   "execution_count": 6,
   "metadata": {},
   "outputs": [],
   "source": [
    "X = pd.read_csv('X_final_normalized.csv', dtype=col_dtype, index_col=0)\n",
    "x = X"
   ]
  },
  {
   "cell_type": "code",
   "execution_count": 7,
   "metadata": {},
   "outputs": [
    {
     "data": {
      "text/html": [
       "<div>\n",
       "<style scoped>\n",
       "    .dataframe tbody tr th:only-of-type {\n",
       "        vertical-align: middle;\n",
       "    }\n",
       "\n",
       "    .dataframe tbody tr th {\n",
       "        vertical-align: top;\n",
       "    }\n",
       "\n",
       "    .dataframe thead th {\n",
       "        text-align: right;\n",
       "    }\n",
       "</style>\n",
       "<table border=\"1\" class=\"dataframe\">\n",
       "  <thead>\n",
       "    <tr style=\"text-align: right;\">\n",
       "      <th></th>\n",
       "      <th>recommended</th>\n",
       "      <th>num_owned_games</th>\n",
       "      <th>game_play_time</th>\n",
       "      <th>lag_month</th>\n",
       "      <th>dlc_price</th>\n",
       "      <th>game_price</th>\n",
       "      <th>Accounting</th>\n",
       "      <th>Action</th>\n",
       "      <th>Adventure</th>\n",
       "      <th>Animation&amp;Modeling</th>\n",
       "      <th>...</th>\n",
       "      <th>PhotoEditing</th>\n",
       "      <th>RPG</th>\n",
       "      <th>Racing</th>\n",
       "      <th>Simulation</th>\n",
       "      <th>SoftwareTraining</th>\n",
       "      <th>Sports</th>\n",
       "      <th>Strategy</th>\n",
       "      <th>Utilities</th>\n",
       "      <th>VideoProduction</th>\n",
       "      <th>WebPublishing</th>\n",
       "    </tr>\n",
       "  </thead>\n",
       "  <tbody>\n",
       "    <tr>\n",
       "      <th>0</th>\n",
       "      <td>1.0</td>\n",
       "      <td>888.0</td>\n",
       "      <td>6.0</td>\n",
       "      <td>0.0</td>\n",
       "      <td>2.99</td>\n",
       "      <td>0.00</td>\n",
       "      <td>0.0</td>\n",
       "      <td>0.046069</td>\n",
       "      <td>0.035268</td>\n",
       "      <td>0.000000</td>\n",
       "      <td>...</td>\n",
       "      <td>0.0</td>\n",
       "      <td>0.015663</td>\n",
       "      <td>0.002611</td>\n",
       "      <td>0.011773</td>\n",
       "      <td>0.0</td>\n",
       "      <td>0.002611</td>\n",
       "      <td>0.018018</td>\n",
       "      <td>0.000051</td>\n",
       "      <td>0.000000</td>\n",
       "      <td>0.000102</td>\n",
       "    </tr>\n",
       "    <tr>\n",
       "      <th>1</th>\n",
       "      <td>1.0</td>\n",
       "      <td>213.0</td>\n",
       "      <td>5.0</td>\n",
       "      <td>0.0</td>\n",
       "      <td>2.99</td>\n",
       "      <td>0.00</td>\n",
       "      <td>0.0</td>\n",
       "      <td>0.021127</td>\n",
       "      <td>0.022834</td>\n",
       "      <td>0.000427</td>\n",
       "      <td>...</td>\n",
       "      <td>0.0</td>\n",
       "      <td>0.005548</td>\n",
       "      <td>0.000854</td>\n",
       "      <td>0.008109</td>\n",
       "      <td>0.0</td>\n",
       "      <td>0.001494</td>\n",
       "      <td>0.007469</td>\n",
       "      <td>0.000640</td>\n",
       "      <td>0.000213</td>\n",
       "      <td>0.000213</td>\n",
       "    </tr>\n",
       "    <tr>\n",
       "      <th>2</th>\n",
       "      <td>1.0</td>\n",
       "      <td>164.0</td>\n",
       "      <td>617.0</td>\n",
       "      <td>0.0</td>\n",
       "      <td>2.99</td>\n",
       "      <td>2.99</td>\n",
       "      <td>0.0</td>\n",
       "      <td>0.019678</td>\n",
       "      <td>0.023282</td>\n",
       "      <td>0.000277</td>\n",
       "      <td>...</td>\n",
       "      <td>0.0</td>\n",
       "      <td>0.011086</td>\n",
       "      <td>0.000000</td>\n",
       "      <td>0.007483</td>\n",
       "      <td>0.0</td>\n",
       "      <td>0.001109</td>\n",
       "      <td>0.003603</td>\n",
       "      <td>0.000554</td>\n",
       "      <td>0.000000</td>\n",
       "      <td>0.000554</td>\n",
       "    </tr>\n",
       "    <tr>\n",
       "      <th>3</th>\n",
       "      <td>1.0</td>\n",
       "      <td>304.0</td>\n",
       "      <td>1371.0</td>\n",
       "      <td>0.0</td>\n",
       "      <td>2.99</td>\n",
       "      <td>2.99</td>\n",
       "      <td>0.0</td>\n",
       "      <td>0.027213</td>\n",
       "      <td>0.014205</td>\n",
       "      <td>0.000000</td>\n",
       "      <td>...</td>\n",
       "      <td>0.0</td>\n",
       "      <td>0.013906</td>\n",
       "      <td>0.000299</td>\n",
       "      <td>0.007925</td>\n",
       "      <td>0.0</td>\n",
       "      <td>0.000000</td>\n",
       "      <td>0.013008</td>\n",
       "      <td>0.000000</td>\n",
       "      <td>0.000000</td>\n",
       "      <td>0.000000</td>\n",
       "    </tr>\n",
       "    <tr>\n",
       "      <th>4</th>\n",
       "      <td>1.0</td>\n",
       "      <td>304.0</td>\n",
       "      <td>10044.0</td>\n",
       "      <td>22.0</td>\n",
       "      <td>3.99</td>\n",
       "      <td>6.99</td>\n",
       "      <td>0.0</td>\n",
       "      <td>0.027213</td>\n",
       "      <td>0.014205</td>\n",
       "      <td>0.000000</td>\n",
       "      <td>...</td>\n",
       "      <td>0.0</td>\n",
       "      <td>0.013906</td>\n",
       "      <td>0.000299</td>\n",
       "      <td>0.007925</td>\n",
       "      <td>0.0</td>\n",
       "      <td>0.000000</td>\n",
       "      <td>0.013008</td>\n",
       "      <td>0.000000</td>\n",
       "      <td>0.000000</td>\n",
       "      <td>0.000000</td>\n",
       "    </tr>\n",
       "  </tbody>\n",
       "</table>\n",
       "<p>5 rows × 28 columns</p>\n",
       "</div>"
      ],
      "text/plain": [
       "   recommended  num_owned_games  game_play_time  lag_month  dlc_price  \\\n",
       "0          1.0            888.0             6.0        0.0       2.99   \n",
       "1          1.0            213.0             5.0        0.0       2.99   \n",
       "2          1.0            164.0           617.0        0.0       2.99   \n",
       "3          1.0            304.0          1371.0        0.0       2.99   \n",
       "4          1.0            304.0         10044.0       22.0       3.99   \n",
       "\n",
       "   game_price  Accounting    Action  Adventure  Animation&Modeling  \\\n",
       "0        0.00         0.0  0.046069   0.035268            0.000000   \n",
       "1        0.00         0.0  0.021127   0.022834            0.000427   \n",
       "2        2.99         0.0  0.019678   0.023282            0.000277   \n",
       "3        2.99         0.0  0.027213   0.014205            0.000000   \n",
       "4        6.99         0.0  0.027213   0.014205            0.000000   \n",
       "\n",
       "       ...        PhotoEditing       RPG    Racing  Simulation  \\\n",
       "0      ...                 0.0  0.015663  0.002611    0.011773   \n",
       "1      ...                 0.0  0.005548  0.000854    0.008109   \n",
       "2      ...                 0.0  0.011086  0.000000    0.007483   \n",
       "3      ...                 0.0  0.013906  0.000299    0.007925   \n",
       "4      ...                 0.0  0.013906  0.000299    0.007925   \n",
       "\n",
       "   SoftwareTraining    Sports  Strategy  Utilities  VideoProduction  \\\n",
       "0               0.0  0.002611  0.018018   0.000051         0.000000   \n",
       "1               0.0  0.001494  0.007469   0.000640         0.000213   \n",
       "2               0.0  0.001109  0.003603   0.000554         0.000000   \n",
       "3               0.0  0.000000  0.013008   0.000000         0.000000   \n",
       "4               0.0  0.000000  0.013008   0.000000         0.000000   \n",
       "\n",
       "   WebPublishing  \n",
       "0       0.000102  \n",
       "1       0.000213  \n",
       "2       0.000554  \n",
       "3       0.000000  \n",
       "4       0.000000  \n",
       "\n",
       "[5 rows x 28 columns]"
      ]
     },
     "execution_count": 7,
     "metadata": {},
     "output_type": "execute_result"
    }
   ],
   "source": [
    "x.head()"
   ]
  },
  {
   "cell_type": "markdown",
   "metadata": {},
   "source": [
    "## Train-test split"
   ]
  },
  {
   "cell_type": "code",
   "execution_count": 8,
   "metadata": {},
   "outputs": [
    {
     "name": "stderr",
     "output_type": "stream",
     "text": [
      "/Users/hyunjoohwang/anaconda3/envs/insight/lib/python3.6/site-packages/sklearn/model_selection/_split.py:2026: FutureWarning: From version 0.21, test_size will always complement train_size unless both are specified.\n",
      "  FutureWarning)\n"
     ]
    }
   ],
   "source": [
    "from sklearn.model_selection import train_test_split\n",
    "\n",
    "predictors = ['num_owned_games', \n",
    "    'game_play_time',\n",
    "    'lag_month',\n",
    "    'dlc_price',\n",
    "    'game_price',\n",
    "    'Accounting', 'Action', 'Adventure', 'Animation&Modeling',\n",
    "    'AudioProduction', 'Casual', 'Design&Illustration', 'EarlyAccess',\n",
    "    'Education', 'FreetoPlay', 'Indie', 'MassivelyMultiplayer',\n",
    "    'PhotoEditing', 'RPG', 'Racing', 'Simulation', 'SoftwareTraining',\n",
    "    'Sports', 'Strategy', 'Utilities', 'VideoProduction', 'WebPublishing']\n",
    "\n",
    "X_train, X_test, y_train, y_test = train_test_split(x[predictors], x['recommended'], train_size=0.8, random_state=9)"
   ]
  },
  {
   "cell_type": "code",
   "execution_count": 6,
   "metadata": {},
   "outputs": [
    {
     "data": {
      "text/plain": [
       "27"
      ]
     },
     "execution_count": 6,
     "metadata": {},
     "output_type": "execute_result"
    }
   ],
   "source": [
    "len(predictors)"
   ]
  },
  {
   "cell_type": "markdown",
   "metadata": {},
   "source": [
    "## Hyperparameter turning using grid search cv"
   ]
  },
  {
   "cell_type": "code",
   "execution_count": 27,
   "metadata": {},
   "outputs": [],
   "source": [
    "from sklearn.ensemble import RandomForestClassifier\n",
    "from sklearn.model_selection import GridSearchCV\n",
    "from sklearn.metrics import classification_report"
   ]
  },
  {
   "cell_type": "code",
   "execution_count": 8,
   "metadata": {},
   "outputs": [
    {
     "name": "stdout",
     "output_type": "stream",
     "text": [
      "# Tuning hyper-parameters\n",
      "\n",
      "Best parameters set found on development set:\n",
      "\n",
      "{'max_depth': 60, 'max_features': 5, 'min_samples_split': 2, 'n_estimators': 500}\n",
      "\n",
      "Grid scores on development set:\n",
      "\n",
      "0.882 (+/-0.004) for {'max_depth': 20, 'max_features': 5, 'min_samples_split': 2, 'n_estimators': 500}\n",
      "0.881 (+/-0.004) for {'max_depth': 20, 'max_features': 5, 'min_samples_split': 4, 'n_estimators': 500}\n",
      "0.881 (+/-0.004) for {'max_depth': 20, 'max_features': 5, 'min_samples_split': 6, 'n_estimators': 500}\n",
      "0.882 (+/-0.004) for {'max_depth': 20, 'max_features': 10, 'min_samples_split': 2, 'n_estimators': 500}\n",
      "0.882 (+/-0.004) for {'max_depth': 20, 'max_features': 10, 'min_samples_split': 4, 'n_estimators': 500}\n",
      "0.881 (+/-0.005) for {'max_depth': 20, 'max_features': 10, 'min_samples_split': 6, 'n_estimators': 500}\n",
      "0.883 (+/-0.004) for {'max_depth': 40, 'max_features': 5, 'min_samples_split': 2, 'n_estimators': 500}\n",
      "0.883 (+/-0.004) for {'max_depth': 40, 'max_features': 5, 'min_samples_split': 4, 'n_estimators': 500}\n",
      "0.883 (+/-0.003) for {'max_depth': 40, 'max_features': 5, 'min_samples_split': 6, 'n_estimators': 500}\n",
      "0.883 (+/-0.004) for {'max_depth': 40, 'max_features': 10, 'min_samples_split': 2, 'n_estimators': 500}\n",
      "0.882 (+/-0.003) for {'max_depth': 40, 'max_features': 10, 'min_samples_split': 4, 'n_estimators': 500}\n",
      "0.883 (+/-0.003) for {'max_depth': 40, 'max_features': 10, 'min_samples_split': 6, 'n_estimators': 500}\n",
      "0.883 (+/-0.004) for {'max_depth': 60, 'max_features': 5, 'min_samples_split': 2, 'n_estimators': 500}\n",
      "0.883 (+/-0.005) for {'max_depth': 60, 'max_features': 5, 'min_samples_split': 4, 'n_estimators': 500}\n",
      "0.883 (+/-0.003) for {'max_depth': 60, 'max_features': 5, 'min_samples_split': 6, 'n_estimators': 500}\n",
      "0.883 (+/-0.004) for {'max_depth': 60, 'max_features': 10, 'min_samples_split': 2, 'n_estimators': 500}\n",
      "0.882 (+/-0.003) for {'max_depth': 60, 'max_features': 10, 'min_samples_split': 4, 'n_estimators': 500}\n",
      "0.882 (+/-0.003) for {'max_depth': 60, 'max_features': 10, 'min_samples_split': 6, 'n_estimators': 500}\n",
      "\n",
      "Detailed classification report:\n",
      "\n",
      "The model is trained on the full development set.\n",
      "The scores are computed on the full evaluation set.\n",
      "\n",
      "             precision    recall  f1-score   support\n",
      "\n",
      "        0.0       0.69      0.24      0.35       954\n",
      "        1.0       0.82      0.97      0.89      3324\n",
      "\n",
      "avg / total       0.79      0.81      0.77      4278\n",
      "\n",
      "\n"
     ]
    }
   ],
   "source": [
    "#### Set up the model and GridSearch for random forest hyperparameter tuning\n",
    "param_grid = [{'n_estimators': [500],\n",
    "               'max_features': [5,10],\n",
    "               'min_samples_split': [2, 4, 6],\n",
    "               'max_depth': [20, 40, 60]}]\n",
    "\n",
    "rf = RandomForestClassifier(class_weight='balanced', n_jobs=-1, random_state=8)\n",
    "\n",
    "\n",
    "print(\"# Tuning hyper-parameters\")\n",
    "print()\n",
    "\n",
    "clf = GridSearchCV(rf, param_grid, cv=5, scoring='f1')\n",
    "clf.fit(X_train, y_train)\n",
    "\n",
    "print(\"Best parameters set found on development set:\")\n",
    "print()\n",
    "print(clf.best_params_)\n",
    "print()\n",
    "print(\"Grid scores on development set:\")\n",
    "print()\n",
    "means = clf.cv_results_['mean_test_score']\n",
    "stds = clf.cv_results_['std_test_score']\n",
    "for mean, std, params in zip(means, stds, clf.cv_results_['params']):\n",
    "    print(\"%0.3f (+/-%0.03f) for %r\"\n",
    "          % (mean, std * 2, params))\n",
    "print()\n",
    "\n",
    "print(\"Detailed classification report:\")\n",
    "print()\n",
    "print(\"The model is trained on the full development set.\")\n",
    "print(\"The scores are computed on the full evaluation set.\")\n",
    "print()\n",
    "y_true, y_pred = y_test, clf.predict(X_test)\n",
    "print(classification_report(y_true, y_pred))\n",
    "print()"
   ]
  },
  {
   "cell_type": "code",
   "execution_count": 9,
   "metadata": {},
   "outputs": [],
   "source": [
    "def plot_confusion_matrix(cm, classes,\n",
    "                          normalize=False,\n",
    "                          title='Confusion matrix',\n",
    "                          cmap=plt.cm.Blues):\n",
    "    \"\"\"\n",
    "    This function prints and plots the confusion matrix.\n",
    "    Normalization can be applied by setting `normalize=True`.\n",
    "    \"\"\"\n",
    "    import itertools\n",
    "    if normalize:\n",
    "        cm = cm.astype('float') / cm.sum(axis=1)[:, np.newaxis]\n",
    "        print(\"Normalized confusion matrix\")\n",
    "    else:\n",
    "        print('Confusion matrix, without normalization')\n",
    "\n",
    "    print(cm)\n",
    "\n",
    "    plt.imshow(cm, interpolation='nearest', cmap=cmap)\n",
    "    plt.title(title)\n",
    "    plt.colorbar()\n",
    "    tick_marks = np.arange(len(classes))\n",
    "    plt.xticks(tick_marks, classes, rotation=45)\n",
    "    plt.yticks(tick_marks, classes)\n",
    "\n",
    "    fmt = '.2f' if normalize else 'd'\n",
    "    thresh = cm.max() / 2.\n",
    "    for i, j in itertools.product(range(cm.shape[0]), range(cm.shape[1])):\n",
    "        plt.text(j, i, format(cm[i, j], fmt),\n",
    "                 horizontalalignment=\"center\",\n",
    "                 color=\"white\" if cm[i, j] > thresh else \"black\")\n",
    "\n",
    "    plt.tight_layout()\n",
    "    plt.ylabel('True label')\n",
    "    plt.xlabel('Predicted label')"
   ]
  },
  {
   "cell_type": "code",
   "execution_count": 10,
   "metadata": {},
   "outputs": [
    {
     "name": "stdout",
     "output_type": "stream",
     "text": [
      "Confusion matrix, without normalization\n",
      "[[ 225  729]\n",
      " [ 101 3223]]\n",
      "Normalized confusion matrix\n",
      "[[ 0.24  0.76]\n",
      " [ 0.03  0.97]]\n"
     ]
    },
    {
     "data": {
      "image/png": "[encoded data removed]",
      "text/plain": [
       "<matplotlib.figure.Figure at 0x1133186d8>"
      ]
     },
     "metadata": {},
     "output_type": "display_data"
    },
    {
     "data": {
      "image/png": "[encoded data removed]",
      "text/plain": [
       "<matplotlib.figure.Figure at 0x1143cf198>"
      ]
     },
     "metadata": {},
     "output_type": "display_data"
    }
   ],
   "source": [
    "from sklearn.metrics import confusion_matrix\n",
    "#tn, fp, fn, tp = confusion_matrix(y_test, y_pred, labels=[0,1]).ravel()\n",
    "\n",
    "rf = RandomForestClassifier(class_weight='balanced', n_jobs=-1, random_state=8, max_depth=60, max_features=5, min_samples_split=2, n_estimators=500)\n",
    "rf.fit(X_train, y_train)\n",
    "y_true, y_pred = y_test, rf.predict(X_test)\n",
    "\n",
    "class_names = ['Not Recommend', 'Recommend']\n",
    "cnf_matrix = confusion_matrix(y_test, y_pred)\n",
    "np.set_printoptions(precision=2)\n",
    "\n",
    "# Plot non-normalized confusion matrix\n",
    "plt.figure(figsize=(8, 6))\n",
    "plot_confusion_matrix(cnf_matrix, classes=class_names,\n",
    "                      title='Confusion matrix, without normalization')\n",
    "\n",
    "# Plot normalized confusion matrix\n",
    "plt.figure(figsize=(8, 6))\n",
    "plot_confusion_matrix(cnf_matrix, classes=class_names, normalize=True,\n",
    "                      title='Normalized confusion matrix')\n",
    "\n",
    "plt.show()"
   ]
  },
  {
   "cell_type": "markdown",
   "metadata": {},
   "source": [
    "## Tuning the decision boundary"
   ]
  },
  {
   "cell_type": "markdown",
   "metadata": {},
   "source": [
    "#### manually inspect how CV scores differ as you adjust the cutoff score"
   ]
  },
  {
   "cell_type": "code",
   "execution_count": 12,
   "metadata": {
    "scrolled": false
   },
   "outputs": [],
   "source": [
    "import sklearn.metrics\n",
    "from sklearn.model_selection import cross_val_score\n",
    "\n",
    "def cutoff_predict(clf, X, cutoff):\n",
    "    return (clf.predict_proba(X)[:,1] > cutoff).astype(int)\n",
    "\n",
    "scores = []\n",
    "\n",
    "def custom_f1(cutoff):\n",
    "    def f1_cutoff(clf, X, y):\n",
    "        y_pred = cutoff_predict(clf, X, cutoff)\n",
    "        return sklearn.metrics.f1_score(y, y_pred)\n",
    "    \n",
    "    return f1_cutoff\n",
    "\n",
    "for cutoff in np.arange(0.1, 1.0, 0.1):\n",
    "    pred_score = cross_val_score(rf, X_train, y_train, cv=10, scoring = custom_f1(cutoff))\n",
    "    scores.append(pred_score)"
   ]
  },
  {
   "cell_type": "code",
   "execution_count": 39,
   "metadata": {},
   "outputs": [
    {
     "name": "stdout",
     "output_type": "stream",
     "text": [
      "CV scores for cut off of 0.1 : [ 0.88  0.88  0.87  0.88  0.87  0.87  0.88  0.88  0.88  0.88]\n",
      "CV scores for cut off of 0.2 : [ 0.88  0.88  0.88  0.88  0.88  0.88  0.88  0.88  0.88  0.88]\n",
      "CV scores for cut off of 0.3 : [ 0.88  0.88  0.88  0.89  0.88  0.88  0.88  0.88  0.88  0.88]\n",
      "CV scores for cut off of 0.4 : [ 0.89  0.88  0.88  0.89  0.88  0.88  0.88  0.89  0.89  0.88]\n",
      "CV scores for cut off of 0.5 : [ 0.88  0.88  0.88  0.89  0.88  0.88  0.88  0.89  0.89  0.88]\n",
      "CV scores for cut off of 0.6 : [ 0.87  0.88  0.87  0.88  0.88  0.87  0.87  0.88  0.88  0.88]\n",
      "CV scores for cut off of 0.7 : [ 0.85  0.84  0.85  0.85  0.85  0.83  0.83  0.85  0.85  0.85]\n",
      "CV scores for cut off of 0.8 : [ 0.74  0.74  0.73  0.74  0.74  0.7   0.73  0.74  0.72  0.72]\n",
      "CV scores for cut off of 0.9 : [ 0.36  0.39  0.35  0.37  0.37  0.36  0.39  0.38  0.38  0.41]\n"
     ]
    }
   ],
   "source": [
    "i = 1.0\n",
    "for score in scores:\n",
    "    print(\"CV scores for cut off of %.1f\" %(i*0.1), \":\", score)\n",
    "    i += 1"
   ]
  },
  {
   "cell_type": "markdown",
   "metadata": {},
   "source": [
    "#### using sklearn, see trade off between precision and recall"
   ]
  },
  {
   "cell_type": "code",
   "execution_count": 13,
   "metadata": {},
   "outputs": [],
   "source": [
    "from sklearn.metrics import precision_recall_curve\n",
    "\n",
    "y_pred = rf.predict_proba(X_test)[:,1]\n",
    "p, r, thresholds = precision_recall_curve(y_test, y_pred)"
   ]
  },
  {
   "cell_type": "code",
   "execution_count": 14,
   "metadata": {},
   "outputs": [
    {
     "data": {
      "text/plain": [
       "[<matplotlib.lines.Line2D at 0x1a366dacf8>]"
      ]
     },
     "execution_count": 14,
     "metadata": {},
     "output_type": "execute_result"
    },
    {
     "data": {
      "image/png": "[encoded data removed]",
      "text/plain": [
       "<matplotlib.figure.Figure at 0x1a366b0668>"
      ]
     },
     "metadata": {},
     "output_type": "display_data"
    }
   ],
   "source": [
    "# plot the curve\n",
    "t = 0.6\n",
    "t1 = 0.8\n",
    "t2 = 0.25\n",
    "\n",
    "plt.figure(figsize=(8,8))\n",
    "plt.title(\"Precision and Recall curve ^ = current threshold\")\n",
    "plt.step(r, p, color='b', alpha=0.2,\n",
    "         where='post')\n",
    "plt.fill_between(r, p, step='post', alpha=0.2,\n",
    "                 color='b')\n",
    "plt.ylim([0.5, 1.01]);\n",
    "plt.xlim([0.5, 1.01]);\n",
    "plt.xlabel('Recall');\n",
    "plt.ylabel('Precision');\n",
    "\n",
    "# plot the current threshold on the line\n",
    "close_default_clf = np.argmin(np.abs(thresholds - t))\n",
    "plt.plot(r[close_default_clf], p[close_default_clf], '^', c='k',\n",
    "        markersize=15)\n",
    "\n",
    "close_default_clf = np.argmin(np.abs(thresholds - t1))\n",
    "plt.plot(r[close_default_clf], p[close_default_clf], '*', c='k',\n",
    "        markersize=15, label='0.8')\n",
    "\n",
    "close_default_clf = np.argmin(np.abs(thresholds - t2))\n",
    "plt.plot(r[close_default_clf], p[close_default_clf], 'o', c='k',\n",
    "        markersize=15)"
   ]
  },
  {
   "cell_type": "code",
   "execution_count": 15,
   "metadata": {},
   "outputs": [
    {
     "data": {
      "image/png": "[encoded data removed]",
      "text/plain": [
       "<matplotlib.figure.Figure at 0x1a366b5550>"
      ]
     },
     "metadata": {},
     "output_type": "display_data"
    }
   ],
   "source": [
    "def plot_precision_recall_vs_threshold(precisions, recalls, thresholds):\n",
    "    \"\"\"\n",
    "    Modified from:\n",
    "    Hands-On Machine learning with Scikit-Learn\n",
    "    and TensorFlow; p.89\n",
    "    \"\"\"\n",
    "    plt.figure(figsize=(8, 8))\n",
    "    plt.title(\"Precision and Recall Scores as a function of the decision threshold\")\n",
    "    plt.plot(thresholds, precisions[:-1], \"b--\", label=\"Precision\")\n",
    "    plt.plot(thresholds, recalls[:-1], \"g-\", label=\"Recall\")\n",
    "    plt.ylabel(\"Score\")\n",
    "    plt.xlabel(\"Decision Threshold\")\n",
    "    plt.legend(loc='best')\n",
    "    \n",
    "plot_precision_recall_vs_threshold(p, r, thresholds)"
   ]
  },
  {
   "cell_type": "markdown",
   "metadata": {},
   "source": [
    "## Replotting the confusion matrix with updated decision boundary"
   ]
  },
  {
   "cell_type": "code",
   "execution_count": 18,
   "metadata": {},
   "outputs": [
    {
     "name": "stdout",
     "output_type": "stream",
     "text": [
      "Confusion matrix, without normalization\n",
      "[[ 614  340]\n",
      " [ 955 2369]]\n",
      "Normalized confusion matrix\n",
      "[[ 0.64  0.36]\n",
      " [ 0.29  0.71]]\n"
     ]
    },
    {
     "data": {
      "image/png": "[encoded data removed]",
      "text/plain": [
       "<matplotlib.figure.Figure at 0x1a36697c50>"
      ]
     },
     "metadata": {},
     "output_type": "display_data"
    },
    {
     "data": {
      "image/png": "[encoded data removed]",
      "text/plain": [
       "<matplotlib.figure.Figure at 0x1a3689d630>"
      ]
     },
     "metadata": {},
     "output_type": "display_data"
    }
   ],
   "source": [
    "y_true, y_pred = y_test, cutoff_predict(rf, X_test, 0.78)\n",
    "\n",
    "class_names = ['Not Recommend', 'Recommend']\n",
    "cnf_matrix = confusion_matrix(y_test, y_pred)\n",
    "np.set_printoptions(precision=2)\n",
    "\n",
    "# Plot non-normalized confusion matrix\n",
    "plt.figure(figsize=(8, 6))\n",
    "plot_confusion_matrix(cnf_matrix, classes=class_names,\n",
    "                      title='Confusion matrix, without normalization')\n",
    "\n",
    "# Plot normalized confusion matrix\n",
    "plt.figure(figsize=(8, 6))\n",
    "plot_confusion_matrix(cnf_matrix, classes=class_names, normalize=True,\n",
    "                      title='Normalized confusion matrix')\n",
    "\n",
    "plt.show()"
   ]
  },
  {
   "cell_type": "markdown",
   "metadata": {},
   "source": [
    "## Feature importance"
   ]
  },
  {
   "cell_type": "code",
   "execution_count": 19,
   "metadata": {},
   "outputs": [
    {
     "data": {
      "image/png": "[encoded data removed]",
      "text/plain": [
       "<matplotlib.figure.Figure at 0x1a36a8e518>"
      ]
     },
     "metadata": {},
     "output_type": "display_data"
    }
   ],
   "source": [
    "imp = rf.feature_importances_\n",
    "names = X_train.columns\n",
    "\n",
    "imp, names = zip(*sorted(zip(imp[:15], names[:15])))\n",
    "\n",
    "plt.barh(range(len(names)), imp, align='center')\n",
    "plt.yticks(range(len(names)), names)\n",
    "\n",
    "plt.xlabel('Feature importance')\n",
    "plt.ylabel('Features')\n",
    "plt.show()"
   ]
  },
  {
   "cell_type": "code",
   "execution_count": 18,
   "metadata": {},
   "outputs": [
    {
     "data": {
      "text/plain": [
       "<matplotlib.axes._subplots.AxesSubplot at 0x1a37f93e10>"
      ]
     },
     "execution_count": 18,
     "metadata": {},
     "output_type": "execute_result"
    },
    {
     "data": {
      "image/png": "[encoded data removed]",
      "text/plain": [
       "<matplotlib.figure.Figure at 0x1a19390048>"
      ]
     },
     "metadata": {},
     "output_type": "display_data"
    }
   ],
   "source": [
    "sns.distplot(X_train['num_owned_games'])"
   ]
  },
  {
   "cell_type": "markdown",
   "metadata": {},
   "source": [
    "# Save model"
   ]
  },
  {
   "cell_type": "code",
   "execution_count": 20,
   "metadata": {},
   "outputs": [
    {
     "data": {
      "text/plain": [
       "['rf_f1.pkl']"
      ]
     },
     "execution_count": 20,
     "metadata": {},
     "output_type": "execute_result"
    }
   ],
   "source": [
    "from sklearn.externals import joblib\n",
    "\n",
    "joblib.dump(rf, 'rf_f1.pkl') "
   ]
  },
  {
   "cell_type": "markdown",
   "metadata": {},
   "source": [
    "# Increase n_trees for performance"
   ]
  },
  {
   "cell_type": "code",
   "execution_count": 3,
   "metadata": {},
   "outputs": [],
   "source": [
    "from sklearn.externals import joblib\n",
    "from sklearn.model_selection import train_test_split\n",
    "from sklearn.ensemble import RandomForestClassifier\n",
    "from sklearn.model_selection import GridSearchCV\n",
    "from sklearn.metrics import classification_report\n",
    "from sklearn.metrics import confusion_matrix\n",
    "from sklearn.model_selection import cross_val_score\n",
    "from sklearn.metrics import precision_recall_curve"
   ]
  },
  {
   "cell_type": "code",
   "execution_count": 22,
   "metadata": {},
   "outputs": [
    {
     "name": "stderr",
     "output_type": "stream",
     "text": [
      "/Users/hyunjoohwang/anaconda3/envs/insight/lib/python3.6/site-packages/sklearn/model_selection/_split.py:2026: FutureWarning: From version 0.21, test_size will always complement train_size unless both are specified.\n",
      "  FutureWarning)\n"
     ]
    }
   ],
   "source": [
    "from sklearn.model_selection import train_test_split\n",
    "\n",
    "predictors = ['num_owned_games', \n",
    "    'game_play_time',\n",
    "    'lag_month',\n",
    "    'dlc_price',\n",
    "    'game_price',\n",
    "    'Accounting', 'Action', 'Adventure', 'Animation&Modeling',\n",
    "    'AudioProduction', 'Casual', 'Design&Illustration', 'EarlyAccess',\n",
    "    'Education', 'FreetoPlay', 'Indie', 'MassivelyMultiplayer',\n",
    "    'PhotoEditing', 'RPG', 'Racing', 'Simulation', 'SoftwareTraining',\n",
    "    'Sports', 'Strategy', 'Utilities', 'VideoProduction', 'WebPublishing']\n",
    "\n",
    "X_train, X_test, y_train, y_test = train_test_split(x[predictors], x['recommended'], train_size=0.8, random_state=9)"
   ]
  },
  {
   "cell_type": "code",
   "execution_count": 30,
   "metadata": {},
   "outputs": [],
   "source": [
    "n_trees = ['100', '200', '300', '400', '500']\n",
    "\n",
    "cv_score_tree = []\n",
    "\n",
    "for n_tree in n_trees:\n",
    "    rf = RandomForestClassifier(class_weight='balanced', n_jobs=-1, random_state=8, max_depth=60, max_features=5, min_samples_split=2, n_estimators=int(n_tree))\n",
    "    cv = cross_val_score(rf, X_train, y_train, cv=5)\n",
    "    \n",
    "    cv_score_tree.append(cv)"
   ]
  },
  {
   "cell_type": "code",
   "execution_count": 39,
   "metadata": {},
   "outputs": [
    {
     "data": {
      "text/plain": [
       "[array([ 0.8,  0.8,  0.8,  0.8,  0.8]),\n",
       " array([ 0.8,  0.8,  0.8,  0.8,  0.8]),\n",
       " array([ 0.8 ,  0.81,  0.8 ,  0.8 ,  0.8 ]),\n",
       " array([ 0.8 ,  0.81,  0.8 ,  0.8 ,  0.8 ]),\n",
       " array([ 0.8 ,  0.81,  0.8 ,  0.8 ,  0.8 ])]"
      ]
     },
     "execution_count": 39,
     "metadata": {},
     "output_type": "execute_result"
    }
   ],
   "source": [
    "cv_score_tree"
   ]
  }
 ],
 "metadata": {
  "kernelspec": {
   "display_name": "Python 3",
   "language": "python",
   "name": "python3"
  },
  "language_info": {
   "codemirror_mode": {
    "name": "ipython",
    "version": 3
   },
   "file_extension": ".py",
   "mimetype": "text/x-python",
   "name": "python",
   "nbconvert_exporter": "python",
   "pygments_lexer": "ipython3",
   "version": "3.6.3"
  }
 },
 "nbformat": 4,
 "nbformat_minor": 2
}
