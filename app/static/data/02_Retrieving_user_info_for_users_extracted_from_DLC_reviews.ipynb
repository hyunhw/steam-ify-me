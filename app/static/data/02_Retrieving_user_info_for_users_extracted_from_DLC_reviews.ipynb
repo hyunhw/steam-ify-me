{
 "cells": [
  {
   "cell_type": "markdown",
   "metadata": {},
   "source": [
    "# Get user info for users who left a DLC review"
   ]
  },
  {
   "cell_type": "code",
   "execution_count": 2,
   "metadata": {},
   "outputs": [],
   "source": [
    "import pandas as pd\n",
    "import numpy as np"
   ]
  },
  {
   "cell_type": "code",
   "execution_count": 3,
   "metadata": {},
   "outputs": [],
   "source": [
    "reviews = pd.read_csv('reviews_cleaned.csv', index_col=0)"
   ]
  },
  {
   "cell_type": "code",
   "execution_count": 4,
   "metadata": {},
   "outputs": [
    {
     "data": {
      "text/html": [
       "<div>\n",
       "<style scoped>\n",
       "    .dataframe tbody tr th:only-of-type {\n",
       "        vertical-align: middle;\n",
       "    }\n",
       "\n",
       "    .dataframe tbody tr th {\n",
       "        vertical-align: top;\n",
       "    }\n",
       "\n",
       "    .dataframe thead th {\n",
       "        text-align: right;\n",
       "    }\n",
       "</style>\n",
       "<table border=\"1\" class=\"dataframe\">\n",
       "  <thead>\n",
       "    <tr style=\"text-align: right;\">\n",
       "      <th></th>\n",
       "      <th>compensation</th>\n",
       "      <th>hours</th>\n",
       "      <th>num_reviews</th>\n",
       "      <th>product_id</th>\n",
       "      <th>products</th>\n",
       "      <th>recommended</th>\n",
       "      <th>text</th>\n",
       "      <th>final_user_id</th>\n",
       "      <th>date_iso</th>\n",
       "    </tr>\n",
       "  </thead>\n",
       "  <tbody>\n",
       "    <tr>\n",
       "      <th>0</th>\n",
       "      <td>0</td>\n",
       "      <td>0.0</td>\n",
       "      <td>35</td>\n",
       "      <td>642803</td>\n",
       "      <td>468.0</td>\n",
       "      <td>1</td>\n",
       "      <td>Okay, get thisyou can open the cab's side door...</td>\n",
       "      <td>76561198067019938</td>\n",
       "      <td>2018-01-13T00:00:00</td>\n",
       "    </tr>\n",
       "    <tr>\n",
       "      <th>1</th>\n",
       "      <td>0</td>\n",
       "      <td>0.0</td>\n",
       "      <td>6</td>\n",
       "      <td>760610</td>\n",
       "      <td>888.0</td>\n",
       "      <td>1</td>\n",
       "      <td>Bought for the pure respect of the original pr...</td>\n",
       "      <td>76561197999899413</td>\n",
       "      <td>2018-01-12T00:00:00</td>\n",
       "    </tr>\n",
       "    <tr>\n",
       "      <th>2</th>\n",
       "      <td>0</td>\n",
       "      <td>0.0</td>\n",
       "      <td>37</td>\n",
       "      <td>760610</td>\n",
       "      <td>213.0</td>\n",
       "      <td>1</td>\n",
       "      <td>One of my favorite pages is 23 1920.pngThey ar...</td>\n",
       "      <td>76561198151921721</td>\n",
       "      <td>2018-01-11T00:00:00</td>\n",
       "    </tr>\n",
       "    <tr>\n",
       "      <th>3</th>\n",
       "      <td>0</td>\n",
       "      <td>0.0</td>\n",
       "      <td>8</td>\n",
       "      <td>779280</td>\n",
       "      <td>164.0</td>\n",
       "      <td>1</td>\n",
       "      <td>i have found my queen.</td>\n",
       "      <td>76561198141277447</td>\n",
       "      <td>2018-01-15T00:00:00</td>\n",
       "    </tr>\n",
       "    <tr>\n",
       "      <th>4</th>\n",
       "      <td>0</td>\n",
       "      <td>0.0</td>\n",
       "      <td>94</td>\n",
       "      <td>779280</td>\n",
       "      <td>304.0</td>\n",
       "      <td>1</td>\n",
       "      <td>Should be called: The Flat Pack</td>\n",
       "      <td>76561198067653526</td>\n",
       "      <td>2018-01-14T00:00:00</td>\n",
       "    </tr>\n",
       "  </tbody>\n",
       "</table>\n",
       "</div>"
      ],
      "text/plain": [
       "   compensation  hours  num_reviews  product_id  products  recommended  \\\n",
       "0             0    0.0           35      642803     468.0            1   \n",
       "1             0    0.0            6      760610     888.0            1   \n",
       "2             0    0.0           37      760610     213.0            1   \n",
       "3             0    0.0            8      779280     164.0            1   \n",
       "4             0    0.0           94      779280     304.0            1   \n",
       "\n",
       "                                                text      final_user_id  \\\n",
       "0  Okay, get thisyou can open the cab's side door...  76561198067019938   \n",
       "1  Bought for the pure respect of the original pr...  76561197999899413   \n",
       "2  One of my favorite pages is 23 1920.pngThey ar...  76561198151921721   \n",
       "3                             i have found my queen.  76561198141277447   \n",
       "4                    Should be called: The Flat Pack  76561198067653526   \n",
       "\n",
       "              date_iso  \n",
       "0  2018-01-13T00:00:00  \n",
       "1  2018-01-12T00:00:00  \n",
       "2  2018-01-11T00:00:00  \n",
       "3  2018-01-15T00:00:00  \n",
       "4  2018-01-14T00:00:00  "
      ]
     },
     "execution_count": 4,
     "metadata": {},
     "output_type": "execute_result"
    }
   ],
   "source": [
    "reviews.head()"
   ]
  },
  {
   "cell_type": "code",
   "execution_count": 6,
   "metadata": {},
   "outputs": [
    {
     "data": {
      "text/plain": [
       "'Number of unique users: 57623'"
      ]
     },
     "execution_count": 6,
     "metadata": {},
     "output_type": "execute_result"
    }
   ],
   "source": [
    "\"Number of unique users: \" + str(len(reviews.final_user_id.unique()))"
   ]
  },
  {
   "cell_type": "code",
   "execution_count": 5,
   "metadata": {},
   "outputs": [],
   "source": [
    "users = pd.read_csv('user_ids_with_reviews.txt')"
   ]
  },
  {
   "cell_type": "code",
   "execution_count": 12,
   "metadata": {},
   "outputs": [],
   "source": [
    "# my steam user id: http://steamcommunity.com/id/jennh/\n",
    "# http://steamcommunity.com/profiles/76561198100686325\n",
    "api_key = 'your key'\n",
    "# my steam id\n",
    "my_id = 'your id'"
   ]
  },
  {
   "cell_type": "code",
   "execution_count": null,
   "metadata": {},
   "outputs": [],
   "source": [
    "#owned_games = pd.Series(index = ids.index)\n",
    "from urllib.request import Request, urlopen\n",
    "import json\n",
    "\n",
    "# instantiate empty dataframe for users to games mapping\n",
    "users_games = pd.DataFrame()\n",
    "print(users_games)\n",
    "\n",
    "# loop through ids and get games owned\n",
    "for index, row in ids.iterrows():\n",
    "    url = f\"\"\"\n",
    "    http://api.steampowered.com/IPlayerService/GetOwnedGames/v0001/?key={api_key}&steamid={row[0]}&format=json\n",
    "    \"\"\"\n",
    "\n",
    "    req = Request(url, headers={'User-Agent': 'Mozilla/5.0'})\n",
    "    data = urlopen(req).read().decode('utf-8')\n",
    "    feed = json.loads(data)\n",
    "    #print(feed)\n",
    "    #feed['response']['game_count']\n",
    "    try:\n",
    "        app_id = [feed['response']['games'][i]['appid'] for i in range(feed['response']['game_count'])]\n",
    "        play_time = [feed['response']['games'][i]['playtime_forever'] for i in range(feed['response']['game_count'])]\n",
    "        df = pd.DataFrame({'user_id': [row[0]]*len(app_id), 'game_id': app_id, 'playtime': play_time})\n",
    "        #print(df)\n",
    "        \n",
    "        users_games = users_games.append(df)\n",
    "        print(\"scraped owned games for user: \" + str(row[0]))\n",
    "    except:\n",
    "        pass\n"
   ]
  },
  {
   "cell_type": "code",
   "execution_count": 8,
   "metadata": {},
   "outputs": [
    {
     "data": {
      "text/html": [
       "<div>\n",
       "<style scoped>\n",
       "    .dataframe tbody tr th:only-of-type {\n",
       "        vertical-align: middle;\n",
       "    }\n",
       "\n",
       "    .dataframe tbody tr th {\n",
       "        vertical-align: top;\n",
       "    }\n",
       "\n",
       "    .dataframe thead th {\n",
       "        text-align: right;\n",
       "    }\n",
       "</style>\n",
       "<table border=\"1\" class=\"dataframe\">\n",
       "  <thead>\n",
       "    <tr style=\"text-align: right;\">\n",
       "      <th></th>\n",
       "      <th>game_id</th>\n",
       "      <th>play_time</th>\n",
       "      <th>user_id</th>\n",
       "    </tr>\n",
       "  </thead>\n",
       "  <tbody>\n",
       "    <tr>\n",
       "      <th>0</th>\n",
       "      <td>3320</td>\n",
       "      <td>352</td>\n",
       "      <td>76561197999899413</td>\n",
       "    </tr>\n",
       "    <tr>\n",
       "      <th>1</th>\n",
       "      <td>3410</td>\n",
       "      <td>197</td>\n",
       "      <td>76561197999899413</td>\n",
       "    </tr>\n",
       "    <tr>\n",
       "      <th>2</th>\n",
       "      <td>3830</td>\n",
       "      <td>477</td>\n",
       "      <td>76561197999899413</td>\n",
       "    </tr>\n",
       "    <tr>\n",
       "      <th>3</th>\n",
       "      <td>4000</td>\n",
       "      <td>193</td>\n",
       "      <td>76561197999899413</td>\n",
       "    </tr>\n",
       "    <tr>\n",
       "      <th>4</th>\n",
       "      <td>6600</td>\n",
       "      <td>29</td>\n",
       "      <td>76561197999899413</td>\n",
       "    </tr>\n",
       "  </tbody>\n",
       "</table>\n",
       "</div>"
      ],
      "text/plain": [
       "   game_id  play_time            user_id\n",
       "0     3320        352  76561197999899413\n",
       "1     3410        197  76561197999899413\n",
       "2     3830        477  76561197999899413\n",
       "3     4000        193  76561197999899413\n",
       "4     6600         29  76561197999899413"
      ]
     },
     "execution_count": 8,
     "metadata": {},
     "output_type": "execute_result"
    }
   ],
   "source": [
    "users_games.head()"
   ]
  },
  {
   "cell_type": "code",
   "execution_count": 9,
   "metadata": {},
   "outputs": [],
   "source": [
    "np.savetxt('user_games.txt', users_games, fmt='%s')"
   ]
  },
  {
   "cell_type": "code",
   "execution_count": 12,
   "metadata": {},
   "outputs": [],
   "source": [
    "import numpy as np\n",
    "import pandas as pd\n",
    "\n",
    "users_games = pd.read_csv('user_games.txt', header=None, names=['game_id','play_time','user_id'], delimiter=' ')"
   ]
  },
  {
   "cell_type": "code",
   "execution_count": 14,
   "metadata": {},
   "outputs": [
    {
     "data": {
      "text/plain": [
       "18799"
      ]
     },
     "execution_count": 14,
     "metadata": {},
     "output_type": "execute_result"
    }
   ],
   "source": [
    "len(users_games['user_id'].unique())"
   ]
  }
 ],
 "metadata": {
  "kernelspec": {
   "display_name": "Python 3",
   "language": "python",
   "name": "python3"
  },
  "language_info": {
   "codemirror_mode": {
    "name": "ipython",
    "version": 3
   },
   "file_extension": ".py",
   "mimetype": "text/x-python",
   "name": "python",
   "nbconvert_exporter": "python",
   "pygments_lexer": "ipython3",
   "version": "3.6.3"
  }
 },
 "nbformat": 4,
 "nbformat_minor": 2
}
